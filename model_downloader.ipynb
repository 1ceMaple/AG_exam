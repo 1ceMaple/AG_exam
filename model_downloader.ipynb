{
 "cells": [
  {
   "cell_type": "code",
   "execution_count": 1,
   "id": "8513d57e-3acb-419b-8521-cb6b57e1b5a8",
   "metadata": {
    "execution": {
     "iopub.execute_input": "2023-10-12T03:49:19.821718Z",
     "iopub.status.busy": "2023-10-12T03:49:19.820888Z",
     "iopub.status.idle": "2023-10-12T03:49:37.017974Z",
     "shell.execute_reply": "2023-10-12T03:49:37.016184Z",
     "shell.execute_reply.started": "2023-10-12T03:49:19.821623Z"
    }
   },
   "outputs": [
    {
     "name": "stderr",
     "output_type": "stream",
     "text": [
      "/Users/mb-zsm/opt/anaconda3/envs/transf4.3/lib/python3.9/site-packages/tqdm/auto.py:21: TqdmWarning: IProgress not found. Please update jupyter and ipywidgets. See https://ipywidgets.readthedocs.io/en/stable/user_install.html\n",
      "  from .autonotebook import tqdm as notebook_tqdm\n"
     ]
    }
   ],
   "source": [
    "from transformers import AutoTokenizer,AutoModel,RobertaTokenizer, RobertaModel"
   ]
  },
  {
   "cell_type": "code",
   "execution_count": 2,
   "id": "dc8c5a23-2623-44a1-8f2e-1b7a8bb76af1",
   "metadata": {
    "execution": {
     "iopub.execute_input": "2023-10-12T03:49:44.082334Z",
     "iopub.status.busy": "2023-10-12T03:49:44.081339Z",
     "iopub.status.idle": "2023-10-12T03:49:46.112438Z",
     "shell.execute_reply": "2023-10-12T03:49:46.111124Z",
     "shell.execute_reply.started": "2023-10-12T03:49:44.082268Z"
    }
   },
   "outputs": [],
   "source": [
    "tokenizer = AutoTokenizer.from_pretrained('distilbert-base-uncased-finetuned-sst-2-english') "
   ]
  },
  {
   "cell_type": "code",
   "execution_count": 3,
   "id": "84a95425-6451-4037-a1dd-fe06023c7bfd",
   "metadata": {
    "execution": {
     "iopub.execute_input": "2023-10-12T03:52:15.395569Z",
     "iopub.status.busy": "2023-10-12T03:52:15.394889Z",
     "iopub.status.idle": "2023-10-12T03:52:15.495462Z",
     "shell.execute_reply": "2023-10-12T03:52:15.492946Z",
     "shell.execute_reply.started": "2023-10-12T03:52:15.395502Z"
    }
   },
   "outputs": [
    {
     "data": {
      "text/plain": [
       "('model/distilbert-base-uncased-finetuned-sst-2-english_config/tokenizer_config.json',\n",
       " 'model/distilbert-base-uncased-finetuned-sst-2-english_config/special_tokens_map.json',\n",
       " 'model/distilbert-base-uncased-finetuned-sst-2-english_config/vocab.txt',\n",
       " 'model/distilbert-base-uncased-finetuned-sst-2-english_config/added_tokens.json',\n",
       " 'model/distilbert-base-uncased-finetuned-sst-2-english_config/tokenizer.json')"
      ]
     },
     "execution_count": 3,
     "metadata": {},
     "output_type": "execute_result"
    }
   ],
   "source": [
    "tokenizer.save_pretrained('model/distilbert-base-uncased-finetuned-sst-2-english_config') "
   ]
  },
  {
   "cell_type": "code",
   "execution_count": null,
   "id": "a4120386-032c-4171-b0f4-dca790cedecd",
   "metadata": {},
   "outputs": [],
   "source": []
  }
 ],
 "metadata": {
  "kernelspec": {
   "display_name": "Python3.9(transf4.3)",
   "language": "python",
   "name": "transf4.3"
  },
  "language_info": {
   "codemirror_mode": {
    "name": "ipython",
    "version": 3
   },
   "file_extension": ".py",
   "mimetype": "text/x-python",
   "name": "python",
   "nbconvert_exporter": "python",
   "pygments_lexer": "ipython3",
   "version": "3.9.17"
  }
 },
 "nbformat": 4,
 "nbformat_minor": 5
}
