{
 "cells": [
  {
   "cell_type": "code",
   "execution_count": 1,
   "id": "8513d57e-3acb-419b-8521-cb6b57e1b5a8",
   "metadata": {
    "execution": {
     "iopub.execute_input": "2023-10-12T03:49:19.821718Z",
     "iopub.status.busy": "2023-10-12T03:49:19.820888Z",
     "iopub.status.idle": "2023-10-12T03:49:37.017974Z",
     "shell.execute_reply": "2023-10-12T03:49:37.016184Z",
     "shell.execute_reply.started": "2023-10-12T03:49:19.821623Z"
    }
   },
   "outputs": [
    {
     "name": "stderr",
     "output_type": "stream",
     "text": [
      "/Users/mb-zsm/opt/anaconda3/envs/transf4.3/lib/python3.9/site-packages/tqdm/auto.py:21: TqdmWarning: IProgress not found. Please update jupyter and ipywidgets. See https://ipywidgets.readthedocs.io/en/stable/user_install.html\n",
      "  from .autonotebook import tqdm as notebook_tqdm\n"
     ]
    }
   ],
   "source": [
    "from transformers import AutoTokenizer,AutoModel,RobertaTokenizer, RobertaModel"
   ]
  },
  {
   "cell_type": "code",
   "execution_count": 6,
   "id": "dc8c5a23-2623-44a1-8f2e-1b7a8bb76af1",
   "metadata": {
    "execution": {
     "iopub.execute_input": "2023-10-12T05:12:11.831698Z",
     "iopub.status.busy": "2023-10-12T05:12:11.831055Z",
     "iopub.status.idle": "2023-10-12T05:12:15.063772Z",
     "shell.execute_reply": "2023-10-12T05:12:15.062907Z",
     "shell.execute_reply.started": "2023-10-12T05:12:11.831647Z"
    }
   },
   "outputs": [
    {
     "name": "stderr",
     "output_type": "stream",
     "text": [
      "Some weights of the model checkpoint at distilbert-base-uncased-finetuned-sst-2-english were not used when initializing DistilBertModel: ['classifier.weight', 'pre_classifier.weight', 'pre_classifier.bias', 'classifier.bias']\n",
      "- This IS expected if you are initializing DistilBertModel from the checkpoint of a model trained on another task or with another architecture (e.g. initializing a BertForSequenceClassification model from a BertForPreTraining model).\n",
      "- This IS NOT expected if you are initializing DistilBertModel from the checkpoint of a model that you expect to be exactly identical (initializing a BertForSequenceClassification model from a BertForSequenceClassification model).\n"
     ]
    }
   ],
   "source": [
    "tokenizer = AutoTokenizer.from_pretrained('distilbert-base-uncased-finetuned-sst-2-english') \n",
    "bertmodel = AutoModel.from_pretrained('distilbert-base-uncased-finetuned-sst-2-english')"
   ]
  },
  {
   "cell_type": "code",
   "execution_count": 7,
   "id": "84a95425-6451-4037-a1dd-fe06023c7bfd",
   "metadata": {
    "execution": {
     "iopub.execute_input": "2023-10-12T05:13:00.064430Z",
     "iopub.status.busy": "2023-10-12T05:13:00.063963Z",
     "iopub.status.idle": "2023-10-12T05:13:01.168886Z",
     "shell.execute_reply": "2023-10-12T05:13:01.167442Z",
     "shell.execute_reply.started": "2023-10-12T05:13:00.064400Z"
    }
   },
   "outputs": [],
   "source": [
    "#tokenizer.save_pretrained('model/distilbert-base-uncased-finetuned-sst-2-english_config') \n",
    "bertmodel.save_pretrained('model/distilbert-base-uncased-finetuned-sst-2-english_config')"
   ]
  },
  {
   "cell_type": "code",
   "execution_count": 4,
   "id": "a4120386-032c-4171-b0f4-dca790cedecd",
   "metadata": {
    "execution": {
     "iopub.execute_input": "2023-10-12T05:10:50.117601Z",
     "iopub.status.busy": "2023-10-12T05:10:50.116900Z",
     "iopub.status.idle": "2023-10-12T05:10:50.217953Z",
     "shell.execute_reply": "2023-10-12T05:10:50.217288Z",
     "shell.execute_reply.started": "2023-10-12T05:10:50.117532Z"
    }
   },
   "outputs": [],
   "source": [
    "tokenizer = AutoTokenizer.from_pretrained('model/distilbert-base-uncased-finetuned-sst-2-english_config/') "
   ]
  },
  {
   "cell_type": "code",
   "execution_count": 8,
   "id": "99aba245-69e7-4469-b985-3b170d7787c5",
   "metadata": {
    "execution": {
     "iopub.execute_input": "2023-10-12T05:13:25.478583Z",
     "iopub.status.busy": "2023-10-12T05:13:25.477933Z",
     "iopub.status.idle": "2023-10-12T05:13:26.327555Z",
     "shell.execute_reply": "2023-10-12T05:13:26.326902Z",
     "shell.execute_reply.started": "2023-10-12T05:13:25.478533Z"
    }
   },
   "outputs": [],
   "source": [
    "bertmodel = AutoModel.from_pretrained('model/distilbert-base-uncased-finetuned-sst-2-english_config/')"
   ]
  },
  {
   "cell_type": "code",
   "execution_count": null,
   "id": "727293e3-8826-4c25-943b-cd4a3d617fd5",
   "metadata": {},
   "outputs": [],
   "source": []
  }
 ],
 "metadata": {
  "kernelspec": {
   "display_name": "Python3.9(transf4.3)",
   "language": "python",
   "name": "transf4.3"
  },
  "language_info": {
   "codemirror_mode": {
    "name": "ipython",
    "version": 3
   },
   "file_extension": ".py",
   "mimetype": "text/x-python",
   "name": "python",
   "nbconvert_exporter": "python",
   "pygments_lexer": "ipython3",
   "version": "3.9.17"
  }
 },
 "nbformat": 4,
 "nbformat_minor": 5
}
