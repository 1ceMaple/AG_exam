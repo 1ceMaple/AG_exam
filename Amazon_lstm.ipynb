{
 "cells": [
  {
   "cell_type": "code",
   "execution_count": 2,
   "id": "74ead69b-a172-4935-9d03-4653a8980c6a",
   "metadata": {
    "tags": []
   },
   "outputs": [],
   "source": [
    "from transformers import AutoTokenizer,AutoModel,RobertaTokenizer, RobertaModel\n",
    "from datasets import Dataset, DatasetDict,load_dataset, load_metric, load_from_disk\n",
    "from torch.utils.data import TensorDataset,DataLoader\n",
    "import torch\n",
    "from torch import nn\n",
    "from torch import optim\n",
    "import torch.nn.functional as F\n",
    "import time\n",
    "from sklearn.metrics import f1_score,roc_auc_score\n",
    "from sklearn.model_selection import train_test_split\n",
    "from torch.cuda.amp import autocast\n",
    "import pandas as pd\n",
    "import numpy as np\n",
    "import os\n",
    "# 设置随机种子\n",
    "seed = 42\n",
    "torch.manual_seed(seed)\n",
    "torch.backends.cudnn.deterministic = True  # 如果使用GPU，确保其可重复性\n",
    "np.random.seed(seed)  # 也设置 NumPy 随机种子，以确保数据加载等操作的随机性一致"
   ]
  },
  {
   "cell_type": "code",
   "execution_count": 3,
   "id": "efc1130b-e46c-4152-a5d1-65575034f8c5",
   "metadata": {
    "tags": []
   },
   "outputs": [
    {
     "name": "stderr",
     "output_type": "stream",
     "text": [
      "/tmp/ipykernel_846/976514720.py:1: DtypeWarning: Columns (1,10) have mixed types. Specify dtype option on import or set low_memory=False.\n",
      "  df1 = pd.read_csv('Amzon/1429_1.csv')\n"
     ]
    }
   ],
   "source": [
    "df1 = pd.read_csv('Amzon/1429_1.csv')\n",
    "df2 = pd.read_csv('Amzon/Datafiniti_Amazon_Consumer_Reviews_of_Amazon_Products_May19.csv')\n",
    "df3 = pd.read_csv('Amzon/Datafiniti_Amazon_Consumer_Reviews_of_Amazon_Products.csv')"
   ]
  },
  {
   "cell_type": "code",
   "execution_count": 4,
   "id": "50491a02-e977-4b63-95a5-ba92dc5fce3d",
   "metadata": {
    "tags": []
   },
   "outputs": [
    {
     "data": {
      "text/plain": [
       "(67992, 27)"
      ]
     },
     "execution_count": 4,
     "metadata": {},
     "output_type": "execute_result"
    }
   ],
   "source": [
    "df = pd.concat([df1, df2, df3])\n",
    "df.shape"
   ]
  },
  {
   "cell_type": "code",
   "execution_count": 5,
   "id": "c93ef00e-b9d0-4f55-a0ec-c93a84b20ad2",
   "metadata": {},
   "outputs": [],
   "source": [
    "df = df[df['reviews.rating'].notnull() & df['reviews.text'].notnull()]"
   ]
  },
  {
   "cell_type": "code",
   "execution_count": 6,
   "id": "114044ab-3475-4c12-981b-1eb5519b44b2",
   "metadata": {},
   "outputs": [
    {
     "name": "stdout",
     "output_type": "stream",
     "text": [
      "<class 'pandas.core.frame.DataFrame'>\n",
      "Int64Index: 67958 entries, 0 to 4999\n",
      "Data columns (total 2 columns):\n",
      " #   Column  Non-Null Count  Dtype \n",
      "---  ------  --------------  ----- \n",
      " 0   text    67958 non-null  object\n",
      " 1   label   67958 non-null  int64 \n",
      "dtypes: int64(1), object(1)\n",
      "memory usage: 1.6+ MB\n"
     ]
    }
   ],
   "source": [
    "df = df[['reviews.text', 'reviews.rating']]\n",
    "df.columns = ['text', 'label']\n",
    "df['label'] = df['label'].astype(int)\n",
    "df['label'] = df['label'] - 1\n",
    "df.info()"
   ]
  },
  {
   "cell_type": "code",
   "execution_count": 7,
   "id": "288bc710-2516-4964-85cb-30c50a47cadd",
   "metadata": {},
   "outputs": [
    {
     "name": "stdout",
     "output_type": "stream",
     "text": [
      "(61162, 2) (3398, 2) (3398, 2)\n"
     ]
    }
   ],
   "source": [
    "df_train, df_test = train_test_split(df, test_size=0.1, random_state=seed)\n",
    "df_val, df_test = train_test_split(df_test, test_size=0.5, random_state=seed)\n",
    "print(df_train.shape, df_val.shape, df_test.shape)"
   ]
  },
  {
   "cell_type": "code",
   "execution_count": 8,
   "id": "29cbb35c-ee2a-4e6a-9926-597aaf77f210",
   "metadata": {},
   "outputs": [],
   "source": [
    "dataset_dict = {\n",
    "    \"train\": Dataset.from_pandas(df_train).remove_columns('__index_level_0__'),\n",
    "    \"val\": Dataset.from_pandas(df_val).remove_columns('__index_level_0__'),\n",
    "    \"test\": Dataset.from_pandas(df_test).remove_columns('__index_level_0__')\n",
    "}\n",
    "dataset = DatasetDict(dataset_dict)\n",
    "dataset\n",
    "\n",
    "del df, df_train, df_val, df_test"
   ]
  },
  {
   "cell_type": "code",
   "execution_count": 9,
   "id": "e3f2cbab-48b4-42b1-80bd-d868e14dd71c",
   "metadata": {
    "tags": []
   },
   "outputs": [
    {
     "name": "stderr",
     "output_type": "stream",
     "text": [
      "Some weights of the model checkpoint at distilbert-base-uncased-finetuned-sst-2-english were not used when initializing DistilBertModel: ['classifier.bias', 'classifier.weight', 'pre_classifier.weight', 'pre_classifier.bias']\n",
      "- This IS expected if you are initializing DistilBertModel from the checkpoint of a model trained on another task or with another architecture (e.g. initializing a BertForSequenceClassification model from a BertForPreTraining model).\n",
      "- This IS NOT expected if you are initializing DistilBertModel from the checkpoint of a model that you expect to be exactly identical (initializing a BertForSequenceClassification model from a BertForSequenceClassification model).\n"
     ]
    }
   ],
   "source": [
    "# 导入模型和分词器\n",
    "tokenizer = AutoTokenizer.from_pretrained('distilbert-base-uncased-finetuned-sst-2-english') \n",
    "bertmodel = AutoModel.from_pretrained('distilbert-base-uncased-finetuned-sst-2-english')\n",
    "bertmodel = bertmodel.to('cuda')"
   ]
  },
  {
   "cell_type": "code",
   "execution_count": 10,
   "id": "97d1e4df-ce13-4035-a2e7-62305d26e471",
   "metadata": {},
   "outputs": [],
   "source": [
    "def tokenize_function(example):\n",
    "   return tokenizer(example[\"text\"],truncation=True,padding=\"max_length\")"
   ]
  },
  {
   "cell_type": "code",
   "execution_count": 11,
   "id": "41919057-c279-4957-9727-c7dd3692680e",
   "metadata": {},
   "outputs": [],
   "source": [
    "lr = 0.001\n",
    "num_epoches = 30\n",
    "input_size = 768\n",
    "output_size = 5"
   ]
  },
  {
   "cell_type": "code",
   "execution_count": 12,
   "id": "41812143-2f8c-46e4-add1-0bb6d7342e0c",
   "metadata": {},
   "outputs": [],
   "source": [
    "class Net(nn.Module):\n",
    "    def __init__(self,input_size, hidden_size, num_layers):\n",
    "        super().__init__()\n",
    "        self.num_layers = num_layers\n",
    "        self.hidden_size = hidden_size\n",
    "        self.lstm = nn.LSTM(input_size, hidden_size, num_layers=num_layers,batch_first = True)\n",
    "        self.linear = nn.Linear(hidden_size,output_size)\n",
    "    def forward(self,x):\n",
    "        batch_size = x.shape[0]\n",
    "        h_0 = x.data.new(self.num_layers, batch_size, self.hidden_size).fill_(0).float()\n",
    "        c_0 = x.data.new(self.num_layers, batch_size, self.hidden_size).fill_(0).float()\n",
    "        out, hidden = self.lstm(x, (h_0, c_0))\n",
    "        out = out[:, -1, :]\n",
    "        out = self.linear(out)\n",
    "        return out"
   ]
  },
  {
   "cell_type": "code",
   "execution_count": 13,
   "id": "c724eae0-7a32-45d8-95ea-45b289410300",
   "metadata": {},
   "outputs": [],
   "source": [
    "def train(input_size, hidden_size, num_layers,rnn_model,optimizer):\n",
    "    total_loss = []\n",
    "    best_val=0\n",
    "    best_n=0\n",
    "    rnn_model.train()\n",
    "    for epoch in range(num_epoches):\n",
    "        total_correct=0\n",
    "        for ite,(X_raw,y) in enumerate(data_loader):\n",
    "            X_raw=X_raw.to('cuda')\n",
    "            x = bertmodel(X_raw)[0].to('cuda')\n",
    "            output = rnn_model(x)\n",
    "            loss = F.cross_entropy(output.float(),y.to('cuda'))\n",
    "            total_correct += int((output.cpu().argmax(dim=-1) == y.cpu()).sum())\n",
    "            optimizer.zero_grad()\n",
    "            loss.backward()\n",
    "            optimizer.step()\n",
    "            total_loss.append(loss.item())\n",
    "            if ite%500==0:\n",
    "                print(\"Epoch{} iteration {} loss {}\".format(epoch,ite,loss.item()))\n",
    "        print(f\"____total_correct:{total_correct/61162:.4f}______\")\n",
    "        if best_val<(total_correct/61162):\n",
    "            best_val=(total_correct/61162)\n",
    "            best_n=0\n",
    "        else:\n",
    "            best_n+=1\n",
    "        if best_n>2:\n",
    "            break\n",
    "    print(f\"____best_val:{best_val:.4f}______\")"
   ]
  },
  {
   "cell_type": "code",
   "execution_count": 14,
   "id": "ef77caa0-ac8b-4625-bca4-a9aa82b71927",
   "metadata": {},
   "outputs": [],
   "source": [
    "def top2_accuracy(output, target):\n",
    "    # 获取前两个最高分数的索引\n",
    "    _, top2_indices = torch.topk(output, k=2, dim=-1)\n",
    "    # 检查目标是否包含在前两个最高分数的索引中\n",
    "    correct = ((top2_indices == target.view(-1, 1)) | (top2_indices == target.view(-1, 1).repeat(1, 2))).any(dim=1)\n",
    "    # 计算top-2准确率\n",
    "    top2_acc = correct.float().sum()\n",
    "    return top2_acc"
   ]
  },
  {
   "cell_type": "code",
   "execution_count": 15,
   "id": "0a9e6b7c-c62e-4e94-9e94-c06a3457fa8d",
   "metadata": {},
   "outputs": [],
   "source": [
    "def test(rnn_model,optimizer):\n",
    "    rnn_model.eval()\n",
    "    y_pred=[]\n",
    "    total_correct=0\n",
    "    top2_correct=0\n",
    "    t=0\n",
    "    for ite,(X_raw,y) in enumerate(data_loader):\n",
    "        t0=time.time()\n",
    "        X_raw=X_raw.to('cuda')\n",
    "        t1=time.time()\n",
    "        x = bertmodel(X_raw)[0].to('cuda')\n",
    "        t2=time.time()\n",
    "        output = rnn_model(x)\n",
    "        t3=time.time()\n",
    "        y_pred.append(output.argmax(dim=-1))\n",
    "        total_correct += int((output.cpu().argmax(dim=-1) == y.cpu()).sum())\n",
    "        top2_correct  += top2_accuracy(output, y.to('cuda'))\n",
    "        t+=t3-t0-(t2-t1)\n",
    "    print(f\"____test_total_correct:{total_correct/3398:.4f}______\")\n",
    "    print(f\"____top2_correct:{top2_correct/3398:.4f}______\")\n",
    "    print(f\"____f1_score:{f1_score(dataset['test']['label'], torch.hstack(y_pred).cpu().numpy(),average='macro'):.4f}______\")\n",
    "    print(f\"____time:{t}______\")"
   ]
  },
  {
   "cell_type": "code",
   "execution_count": 16,
   "id": "66c2126e-af58-4c24-a75c-e4718e004ae3",
   "metadata": {
    "collapsed": true,
    "jupyter": {
     "outputs_hidden": true
    },
    "tags": []
   },
   "outputs": [
    {
     "name": "stdout",
     "output_type": "stream",
     "text": [
      "Total trainable parameters: 12889\n"
     ]
    },
    {
     "data": {
      "application/vnd.jupyter.widget-view+json": {
       "model_id": "aabce785d6054cb89b3d37dfb3cc093f",
       "version_major": 2,
       "version_minor": 0
      },
      "text/plain": [
       "  0%|          | 0/62 [00:00<?, ?ba/s]"
      ]
     },
     "metadata": {},
     "output_type": "display_data"
    },
    {
     "name": "stdout",
     "output_type": "stream",
     "text": [
      "Epoch0 iteration 0 loss 1.531180739402771\n",
      "Epoch0 iteration 500 loss 1.3334306478500366\n",
      "Epoch0 iteration 1000 loss 0.5830434560775757\n",
      "Epoch0 iteration 1500 loss 1.0218111276626587\n",
      "Epoch0 iteration 2000 loss 1.0663148164749146\n",
      "Epoch0 iteration 2500 loss 0.777960479259491\n",
      "Epoch0 iteration 3000 loss 0.6810263991355896\n",
      "Epoch0 iteration 3500 loss 0.9873929619789124\n",
      "____total_correct:0.6832______\n",
      "Epoch1 iteration 0 loss 0.5763147473335266\n",
      "Epoch1 iteration 500 loss 1.3536567687988281\n",
      "Epoch1 iteration 1000 loss 0.5823315382003784\n",
      "Epoch1 iteration 1500 loss 1.0223135948181152\n",
      "Epoch1 iteration 2000 loss 1.0668894052505493\n",
      "Epoch1 iteration 2500 loss 0.7779914140701294\n",
      "Epoch1 iteration 3000 loss 0.6808350086212158\n",
      "Epoch1 iteration 3500 loss 0.9873849153518677\n",
      "____total_correct:0.6933______\n",
      "Epoch2 iteration 0 loss 0.5761855840682983\n",
      "Epoch2 iteration 500 loss 1.3543697595596313\n",
      "Epoch2 iteration 1000 loss 0.5822912454605103\n",
      "Epoch2 iteration 1500 loss 1.0223913192749023\n",
      "Epoch2 iteration 2000 loss 1.0668902397155762\n",
      "Epoch2 iteration 2500 loss 0.778031587600708\n",
      "Epoch2 iteration 3000 loss 0.680701732635498\n",
      "Epoch2 iteration 3500 loss 0.9873219132423401\n",
      "____total_correct:0.6933______\n",
      "Epoch3 iteration 0 loss 0.5760576725006104\n",
      "Epoch3 iteration 500 loss 1.3548285961151123\n",
      "Epoch3 iteration 1000 loss 0.5822365880012512\n",
      "Epoch3 iteration 1500 loss 1.0224605798721313\n",
      "Epoch3 iteration 2000 loss 1.066878080368042\n",
      "Epoch3 iteration 2500 loss 0.7781100273132324\n",
      "Epoch3 iteration 3000 loss 0.6805946826934814\n",
      "Epoch3 iteration 3500 loss 0.9873073101043701\n",
      "____total_correct:0.6933______\n",
      "Epoch4 iteration 0 loss 0.5760976672172546\n",
      "Epoch4 iteration 500 loss 1.3553152084350586\n",
      "Epoch4 iteration 1000 loss 0.582207977771759\n",
      "Epoch4 iteration 1500 loss 1.0225404500961304\n",
      "Epoch4 iteration 2000 loss 1.0669633150100708\n",
      "Epoch4 iteration 2500 loss 0.7781028151512146\n",
      "Epoch4 iteration 3000 loss 0.680497944355011\n",
      "Epoch4 iteration 3500 loss 0.987315833568573\n",
      "____total_correct:0.6933______\n",
      "____best_val:0.6933______\n"
     ]
    },
    {
     "data": {
      "application/vnd.jupyter.widget-view+json": {
       "model_id": "25155d0aaa8e4ef4b63e0940ded1d64d",
       "version_major": 2,
       "version_minor": 0
      },
      "text/plain": [
       "  0%|          | 0/4 [00:00<?, ?ba/s]"
      ]
     },
     "metadata": {},
     "output_type": "display_data"
    },
    {
     "name": "stdout",
     "output_type": "stream",
     "text": [
      "____test_total_correct:0.7004______\n",
      "____top2_correct:0.9179______\n",
      "____f1_score:0.1648______\n",
      "____time:5.1954731941223145______\n",
      "Total trainable parameters: 26669\n"
     ]
    },
    {
     "data": {
      "application/vnd.jupyter.widget-view+json": {
       "model_id": "4210997600b54c29a6b5758c13010ed8",
       "version_major": 2,
       "version_minor": 0
      },
      "text/plain": [
       "  0%|          | 0/62 [00:00<?, ?ba/s]"
      ]
     },
     "metadata": {},
     "output_type": "display_data"
    },
    {
     "name": "stdout",
     "output_type": "stream",
     "text": [
      "Epoch0 iteration 0 loss 1.6706026792526245\n",
      "Epoch0 iteration 500 loss 1.345374345779419\n",
      "Epoch0 iteration 1000 loss 0.5837663412094116\n",
      "Epoch0 iteration 1500 loss 1.0117253065109253\n",
      "Epoch0 iteration 2000 loss 1.0692806243896484\n",
      "Epoch0 iteration 2500 loss 0.7759770154953003\n",
      "Epoch0 iteration 3000 loss 0.6824392080307007\n",
      "Epoch0 iteration 3500 loss 0.9855846762657166\n",
      "____total_correct:0.6892______\n",
      "Epoch1 iteration 0 loss 0.5813770294189453\n",
      "Epoch1 iteration 500 loss 1.3487082719802856\n",
      "Epoch1 iteration 1000 loss 0.5831009745597839\n",
      "Epoch1 iteration 1500 loss 1.0195457935333252\n",
      "Epoch1 iteration 2000 loss 1.0682543516159058\n",
      "Epoch1 iteration 2500 loss 0.7762359380722046\n",
      "Epoch1 iteration 3000 loss 0.6823593378067017\n",
      "Epoch1 iteration 3500 loss 0.9849435091018677\n",
      "____total_correct:0.6933______\n",
      "Epoch2 iteration 0 loss 0.5793467164039612\n",
      "Epoch2 iteration 500 loss 1.3500044345855713\n",
      "Epoch2 iteration 1000 loss 0.5828560590744019\n",
      "Epoch2 iteration 1500 loss 1.0202122926712036\n",
      "Epoch2 iteration 2000 loss 1.0676976442337036\n",
      "Epoch2 iteration 2500 loss 0.776276707649231\n",
      "Epoch2 iteration 3000 loss 0.6822018623352051\n",
      "Epoch2 iteration 3500 loss 0.9849532842636108\n",
      "____total_correct:0.6933______\n",
      "Epoch3 iteration 0 loss 0.5792070627212524\n",
      "Epoch3 iteration 500 loss 1.3502761125564575\n",
      "Epoch3 iteration 1000 loss 0.5827646255493164\n",
      "Epoch3 iteration 1500 loss 1.0205894708633423\n",
      "Epoch3 iteration 2000 loss 1.067229986190796\n",
      "Epoch3 iteration 2500 loss 0.7765156030654907\n",
      "Epoch3 iteration 3000 loss 0.6820368766784668\n",
      "Epoch3 iteration 3500 loss 0.9850939512252808\n",
      "____total_correct:0.6933______\n",
      "Epoch4 iteration 0 loss 0.5793167352676392\n",
      "Epoch4 iteration 500 loss 1.3502187728881836\n",
      "Epoch4 iteration 1000 loss 0.5827528238296509\n",
      "Epoch4 iteration 1500 loss 1.0208343267440796\n",
      "Epoch4 iteration 2000 loss 1.0670875310897827\n",
      "Epoch4 iteration 2500 loss 0.7766549587249756\n",
      "Epoch4 iteration 3000 loss 0.6818920969963074\n",
      "Epoch4 iteration 3500 loss 0.9852575063705444\n",
      "____total_correct:0.6933______\n",
      "____best_val:0.6933______\n"
     ]
    },
    {
     "data": {
      "application/vnd.jupyter.widget-view+json": {
       "model_id": "26d67bd24dc44ea78d74f4ad984fc819",
       "version_major": 2,
       "version_minor": 0
      },
      "text/plain": [
       "  0%|          | 0/4 [00:00<?, ?ba/s]"
      ]
     },
     "metadata": {},
     "output_type": "display_data"
    },
    {
     "name": "stdout",
     "output_type": "stream",
     "text": [
      "____test_total_correct:0.7004______\n",
      "____top2_correct:0.9179______\n",
      "____f1_score:0.1648______\n",
      "____time:5.202576637268066______\n",
      "Total trainable parameters: 56917\n"
     ]
    },
    {
     "data": {
      "application/vnd.jupyter.widget-view+json": {
       "model_id": "94b8082d52d741e580f4baf8f934f807",
       "version_major": 2,
       "version_minor": 0
      },
      "text/plain": [
       "  0%|          | 0/62 [00:00<?, ?ba/s]"
      ]
     },
     "metadata": {},
     "output_type": "display_data"
    },
    {
     "name": "stdout",
     "output_type": "stream",
     "text": [
      "Epoch0 iteration 0 loss 1.5148251056671143\n",
      "Epoch0 iteration 500 loss 1.3513903617858887\n",
      "Epoch0 iteration 1000 loss 0.5850570201873779\n",
      "Epoch0 iteration 1500 loss 1.0109034776687622\n",
      "Epoch0 iteration 2000 loss 1.0718086957931519\n",
      "Epoch0 iteration 2500 loss 0.7737839221954346\n",
      "Epoch0 iteration 3000 loss 0.6819460988044739\n",
      "Epoch0 iteration 3500 loss 0.9849610924720764\n",
      "____total_correct:0.6933______\n",
      "Epoch1 iteration 0 loss 0.5900102853775024\n",
      "Epoch1 iteration 500 loss 1.3482285737991333\n",
      "Epoch1 iteration 1000 loss 0.5845285654067993\n",
      "Epoch1 iteration 1500 loss 1.0148593187332153\n",
      "Epoch1 iteration 2000 loss 1.0720133781433105\n",
      "Epoch1 iteration 2500 loss 0.7745486497879028\n",
      "Epoch1 iteration 3000 loss 0.6821832656860352\n",
      "Epoch1 iteration 3500 loss 0.9847955703735352\n",
      "____total_correct:0.6933______\n",
      "Epoch2 iteration 0 loss 0.5883729457855225\n",
      "Epoch2 iteration 500 loss 1.347787857055664\n",
      "Epoch2 iteration 1000 loss 0.5842571258544922\n",
      "Epoch2 iteration 1500 loss 1.0160644054412842\n",
      "Epoch2 iteration 2000 loss 1.0723563432693481\n",
      "Epoch2 iteration 2500 loss 0.7748079299926758\n",
      "Epoch2 iteration 3000 loss 0.682121992111206\n",
      "Epoch2 iteration 3500 loss 0.9848437309265137\n",
      "____total_correct:0.6933______\n",
      "Epoch3 iteration 0 loss 0.5875223875045776\n",
      "Epoch3 iteration 500 loss 1.3475979566574097\n",
      "Epoch3 iteration 1000 loss 0.5841160416603088\n",
      "Epoch3 iteration 1500 loss 1.0166456699371338\n",
      "Epoch3 iteration 2000 loss 1.0726391077041626\n",
      "Epoch3 iteration 2500 loss 0.7750255465507507\n",
      "Epoch3 iteration 3000 loss 0.6820777654647827\n",
      "Epoch3 iteration 3500 loss 0.9849942326545715\n",
      "____total_correct:0.6933______\n",
      "____best_val:0.6933______\n"
     ]
    },
    {
     "data": {
      "application/vnd.jupyter.widget-view+json": {
       "model_id": "04d0ee80a76c4de6836721d41fdb3274",
       "version_major": 2,
       "version_minor": 0
      },
      "text/plain": [
       "  0%|          | 0/4 [00:00<?, ?ba/s]"
      ]
     },
     "metadata": {},
     "output_type": "display_data"
    },
    {
     "name": "stdout",
     "output_type": "stream",
     "text": [
      "____test_total_correct:0.7004______\n",
      "____top2_correct:0.9179______\n",
      "____f1_score:0.1648______\n",
      "____time:5.205257415771484______\n"
     ]
    }
   ],
   "source": [
    "batch_size = 16\n",
    "for num_layers in [1,2,3,4]:\n",
    "    for hidden_size in [4,8,16,32,64,128,256]:\n",
    "        rnn_model = Net(input_size, hidden_size, num_layers).to('cuda')\n",
    "        optimizer = optim.Adam(rnn_model.parameters(),lr,weight_decay=5e-4)\n",
    "        total_params = sum(p.numel() for p in rnn_model.parameters() if p.requires_grad)\n",
    "        print(f\"Total trainable parameters: {total_params}\")\n",
    "\n",
    "        tokenized_datasets = dataset['train'].map(tokenize_function, batched=True)\n",
    "        data = TensorDataset(torch.tensor(tokenized_datasets['input_ids']),torch.tensor(dataset['train']['label']))\n",
    "        data_loader = DataLoader(data, batch_size=batch_size, shuffle=False,pin_memory=False)\n",
    "        train(input_size, hidden_size, num_layers,rnn_model,optimizer)\n",
    "        \n",
    "        del tokenized_datasets, data, data_loader\n",
    "        \n",
    "        tokenized_datasets = dataset['test'].map(tokenize_function, batched=True)\n",
    "        data = TensorDataset(torch.tensor(tokenized_datasets['input_ids']),torch.tensor(dataset['test']['label']))\n",
    "        data_loader = DataLoader(data, batch_size=batch_size, shuffle=False,pin_memory=False)\n",
    "        test(rnn_model,optimizer)"
   ]
  }
 ],
 "metadata": {
  "kernelspec": {
   "display_name": "Python 3 (ipykernel)",
   "language": "python",
   "name": "python3"
  },
  "language_info": {
   "codemirror_mode": {
    "name": "ipython",
    "version": 3
   },
   "file_extension": ".py",
   "mimetype": "text/x-python",
   "name": "python",
   "nbconvert_exporter": "python",
   "pygments_lexer": "ipython3",
   "version": "3.9.6"
  }
 },
 "nbformat": 4,
 "nbformat_minor": 5
}
